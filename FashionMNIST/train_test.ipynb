{
 "cells": [
  {
   "cell_type": "markdown",
   "metadata": {},
   "source": [
    "# 使用PyTorch训练并测试Fashion MNIST\n",
    "\n"
   ]
  },
  {
   "cell_type": "code",
   "execution_count": 1,
   "metadata": {},
   "outputs": [],
   "source": [
    "import fmnist\n",
    "import fmnist_io"
   ]
  },
  {
   "cell_type": "markdown",
   "metadata": {},
   "source": [
    "加载训练和测试数据集"
   ]
  },
  {
   "cell_type": "code",
   "execution_count": 3,
   "metadata": {},
   "outputs": [],
   "source": [
    "train_loader, test_loader, classes = fmnist_io.load_fmnist_data()"
   ]
  },
  {
   "cell_type": "markdown",
   "metadata": {},
   "source": [
    "训练"
   ]
  },
  {
   "cell_type": "code",
   "execution_count": 4,
   "metadata": {},
   "outputs": [
    {
     "name": "stdout",
     "output_type": "stream",
     "text": [
      "Epoch: 1, Batch: 1000, Loss: 0.8457\n",
      "Epoch: 1, Batch: 2000, Loss: 0.5876\n",
      "Epoch: 1, Batch: 3000, Loss: 0.5362\n",
      "Epoch: 2, Batch: 1000, Loss: 0.4963\n",
      "Epoch: 2, Batch: 2000, Loss: 0.4516\n",
      "Epoch: 2, Batch: 3000, Loss: 0.4358\n",
      "Epoch: 3, Batch: 1000, Loss: 0.4175\n",
      "Epoch: 3, Batch: 2000, Loss: 0.4052\n",
      "Epoch: 3, Batch: 3000, Loss: 0.3870\n",
      "Epoch: 4, Batch: 1000, Loss: 0.3684\n",
      "Epoch: 4, Batch: 2000, Loss: 0.3757\n",
      "Epoch: 4, Batch: 3000, Loss: 0.3556\n",
      "Epoch: 5, Batch: 1000, Loss: 0.3505\n",
      "Epoch: 5, Batch: 2000, Loss: 0.3503\n",
      "Epoch: 5, Batch: 3000, Loss: 0.3317\n",
      "Epoch: 6, Batch: 1000, Loss: 0.3278\n",
      "Epoch: 6, Batch: 2000, Loss: 0.3307\n",
      "Epoch: 6, Batch: 3000, Loss: 0.3333\n",
      "Epoch: 7, Batch: 1000, Loss: 0.3110\n",
      "Epoch: 7, Batch: 2000, Loss: 0.3220\n",
      "Epoch: 7, Batch: 3000, Loss: 0.3196\n",
      "Epoch: 8, Batch: 1000, Loss: 0.3014\n",
      "Epoch: 8, Batch: 2000, Loss: 0.3106\n",
      "Epoch: 8, Batch: 3000, Loss: 0.3223\n",
      "Epoch: 9, Batch: 1000, Loss: 0.2909\n",
      "Epoch: 9, Batch: 2000, Loss: 0.3037\n",
      "Epoch: 9, Batch: 3000, Loss: 0.3018\n",
      "Epoch: 10, Batch: 1000, Loss: 0.2918\n",
      "Epoch: 10, Batch: 2000, Loss: 0.3003\n",
      "Epoch: 10, Batch: 3000, Loss: 0.2966\n",
      "Epoch: 11, Batch: 1000, Loss: 0.2832\n",
      "Epoch: 11, Batch: 2000, Loss: 0.2835\n",
      "Epoch: 11, Batch: 3000, Loss: 0.2985\n",
      "Epoch: 12, Batch: 1000, Loss: 0.2811\n",
      "Epoch: 12, Batch: 2000, Loss: 0.2894\n",
      "Epoch: 12, Batch: 3000, Loss: 0.2876\n",
      "Epoch: 13, Batch: 1000, Loss: 0.2755\n",
      "Epoch: 13, Batch: 2000, Loss: 0.2800\n",
      "Epoch: 13, Batch: 3000, Loss: 0.2808\n",
      "Epoch: 14, Batch: 1000, Loss: 0.2758\n",
      "Epoch: 14, Batch: 2000, Loss: 0.2731\n",
      "Epoch: 14, Batch: 3000, Loss: 0.2841\n",
      "Epoch: 15, Batch: 1000, Loss: 0.2747\n",
      "Epoch: 15, Batch: 2000, Loss: 0.2739\n",
      "Epoch: 15, Batch: 3000, Loss: 0.2853\n",
      "Epoch: 16, Batch: 1000, Loss: 0.2732\n",
      "Epoch: 16, Batch: 2000, Loss: 0.2725\n",
      "Epoch: 16, Batch: 3000, Loss: 0.2739\n",
      "Epoch: 17, Batch: 1000, Loss: 0.2633\n",
      "Epoch: 17, Batch: 2000, Loss: 0.2728\n",
      "Epoch: 17, Batch: 3000, Loss: 0.2756\n",
      "Epoch: 18, Batch: 1000, Loss: 0.2692\n",
      "Epoch: 18, Batch: 2000, Loss: 0.2714\n",
      "Epoch: 18, Batch: 3000, Loss: 0.2689\n",
      "Epoch: 19, Batch: 1000, Loss: 0.2638\n",
      "Epoch: 19, Batch: 2000, Loss: 0.2654\n",
      "Epoch: 19, Batch: 3000, Loss: 0.2756\n",
      "Epoch: 20, Batch: 1000, Loss: 0.2642\n",
      "Epoch: 20, Batch: 2000, Loss: 0.2640\n",
      "Epoch: 20, Batch: 3000, Loss: 0.2694\n",
      "Epoch: 21, Batch: 1000, Loss: 0.2653\n",
      "Epoch: 21, Batch: 2000, Loss: 0.2592\n",
      "Epoch: 21, Batch: 3000, Loss: 0.2832\n",
      "Epoch: 22, Batch: 1000, Loss: 0.2548\n",
      "Epoch: 22, Batch: 2000, Loss: 0.2682\n",
      "Epoch: 22, Batch: 3000, Loss: 0.2735\n",
      "Epoch: 23, Batch: 1000, Loss: 0.2545\n",
      "Epoch: 23, Batch: 2000, Loss: 0.2718\n",
      "Epoch: 23, Batch: 3000, Loss: 0.2609\n",
      "Epoch: 24, Batch: 1000, Loss: 0.2512\n",
      "Epoch: 24, Batch: 2000, Loss: 0.2681\n",
      "Epoch: 24, Batch: 3000, Loss: 0.2685\n",
      "Epoch: 25, Batch: 1000, Loss: 0.2589\n",
      "Epoch: 25, Batch: 2000, Loss: 0.2572\n",
      "Epoch: 25, Batch: 3000, Loss: 0.2713\n",
      "Epoch: 26, Batch: 1000, Loss: 0.2613\n",
      "Epoch: 26, Batch: 2000, Loss: 0.2618\n",
      "Epoch: 26, Batch: 3000, Loss: 0.2577\n",
      "Epoch: 27, Batch: 1000, Loss: 0.2611\n",
      "Epoch: 27, Batch: 2000, Loss: 0.2637\n",
      "Epoch: 27, Batch: 3000, Loss: 0.2652\n",
      "Epoch: 28, Batch: 1000, Loss: 0.2564\n",
      "Epoch: 28, Batch: 2000, Loss: 0.2567\n",
      "Epoch: 28, Batch: 3000, Loss: 0.2627\n",
      "Epoch: 29, Batch: 1000, Loss: 0.2598\n",
      "Epoch: 29, Batch: 2000, Loss: 0.2621\n",
      "Epoch: 29, Batch: 3000, Loss: 0.2561\n",
      "Epoch: 30, Batch: 1000, Loss: 0.2512\n",
      "Epoch: 30, Batch: 2000, Loss: 0.2658\n",
      "Epoch: 30, Batch: 3000, Loss: 0.2635\n",
      "Training over\n"
     ]
    }
   ],
   "source": [
    "model, losses = fmnist.train(30, train_loader)"
   ]
  },
  {
   "cell_type": "code",
   "execution_count": 6,
   "metadata": {},
   "outputs": [
    {
     "data": {
      "image/png": "[encoded data removed]",
      "text/plain": [
       "<Figure size 432x288 with 1 Axes>"
      ]
     },
     "metadata": {
      "needs_background": "light"
     },
     "output_type": "display_data"
    }
   ],
   "source": [
    "%matplotlib inline\n",
    "fmnist.show_losses(losses=losses)"
   ]
  },
  {
   "cell_type": "code",
   "execution_count": null,
   "metadata": {},
   "outputs": [],
   "source": [
    "fmnist.test(model, test_loader, classes)"
   ]
  },
  {
   "cell_type": "code",
   "execution_count": 8,
   "metadata": {},
   "outputs": [],
   "source": [
    "fmnist.save_model(model)"
   ]
  }
 ],
 "metadata": {
  "kernelspec": {
   "display_name": "Python 3",
   "language": "python",
   "name": "python3"
  },
  "language_info": {
   "codemirror_mode": {
    "name": "ipython",
    "version": 3
   },
   "file_extension": ".py",
   "mimetype": "text/x-python",
   "name": "python",
   "nbconvert_exporter": "python",
   "pygments_lexer": "ipython3",
   "version": "3.6.7"
  }
 },
 "nbformat": 4,
 "nbformat_minor": 2
}
