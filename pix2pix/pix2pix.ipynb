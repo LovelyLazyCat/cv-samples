{
 "cells": [
  {
   "cell_type": "markdown",
   "metadata": {},
   "source": [
    "# 利用GAN实现Pix2Pix应用\n",
    "\n",
    "这个应用来自TensorFlow官方示例. 地址[pix2pix_eager](https://github.com/tensorflow/tensorflow/blob/r1.13/tensorflow/contrib/eager/python/examples/pix2pix/pix2pix_eager.ipynb).\n",
    "\n",
    "原始应用使用的是Eager, 并且代码全部集成在一个notebook中. 我这里使用传统的Session实现, 代码封装在py文件中.\n",
    "\n",
    "代码和官方的差不多, 我自己加了一些中文注释."
   ]
  },
  {
   "cell_type": "code",
   "execution_count": 1,
   "metadata": {},
   "outputs": [],
   "source": [
    "import tensorflow as tf\n",
    "%matplotlib inline"
   ]
  },
  {
   "cell_type": "markdown",
   "metadata": {},
   "source": [
    "下面两个包包含了训练pix2pix模型所需要的全部代码"
   ]
  },
  {
   "cell_type": "code",
   "execution_count": 2,
   "metadata": {},
   "outputs": [],
   "source": [
    "import pix2pix\n",
    "import pix2pix_io"
   ]
  },
  {
   "cell_type": "markdown",
   "metadata": {},
   "source": [
    "获取训练和测试dataset."
   ]
  },
  {
   "cell_type": "code",
   "execution_count": 3,
   "metadata": {},
   "outputs": [],
   "source": [
    "train_data, test_data = pix2pix_io.download_and_get_dataset()"
   ]
  },
  {
   "cell_type": "markdown",
   "metadata": {},
   "source": [
    "开始训练模型, 这里每一步都会显示模型在测试集上生成的图像.\n",
    "\n",
    "随着训练进行, 你会发现生成的图像越来越逼真.\n",
    "\n",
    "**以下代码请使用GPU运行!!**"
   ]
  },
  {
   "cell_type": "code",
   "execution_count": null,
   "metadata": {},
   "outputs": [],
   "source": [
    "epochs = 200\n",
    "\n",
    "pix2pix.session_train(train_data,\n",
    "                      epochs,\n",
    "                      test_dataset=test_data)"
   ]
  }
 ],
 "metadata": {
  "kernelspec": {
   "display_name": "Python 3",
   "language": "python",
   "name": "python3"
  },
  "language_info": {
   "codemirror_mode": {
    "name": "ipython",
    "version": 3
   },
   "file_extension": ".py",
   "mimetype": "text/x-python",
   "name": "python",
   "nbconvert_exporter": "python",
   "pygments_lexer": "ipython3",
   "version": "3.6.7"
  }
 },
 "nbformat": 4,
 "nbformat_minor": 2
}
