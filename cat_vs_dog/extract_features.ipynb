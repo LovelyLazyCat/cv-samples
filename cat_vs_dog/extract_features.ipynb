{
 "cells": [
  {
   "cell_type": "markdown",
   "metadata": {},
   "source": [
    "# 提取训练和测试数据的特征\n",
    "\n",
    "本次将提取所有训练数据和测试数据的以下网络的特征:\n",
    "\n",
    "- Inception V3\n",
    "- Xception\n",
    "- ResNet50\n",
    "- VGG16\n",
    "\n",
    "所有特征分批保存在一个目录下(你无需了解目录的结构,也可以进行训练和测试).\n",
    "\n",
    "注意训练和测试数据的特征是分开储存的."
   ]
  },
  {
   "cell_type": "code",
   "execution_count": 1,
   "metadata": {},
   "outputs": [],
   "source": [
    "# 提取特征的数据路径,请改成你自己机器下的路径!\n",
    "\n",
    "# 需要把特征保存在哪个位置, 注意目录必须事先创建!!!!!并保证目录下是空的!!!!(这点特别重要,不然后面训练会失败)\n",
    "# 训练特征的位置\n",
    "train_features_path = r'/usr/local/data/cat_dog/features/train'\n",
    "# 测试特征的位置\n",
    "test_features_path = r'/usr/local/data/cat_dog/features/test'\n",
    "\n",
    "# 猫狗大战数据的位置\n",
    "# 训练数据的位置\n",
    "train_data_path = r'/usr/local/data/cat_dog/raw/train'\n",
    "# 测试数据的位置\n",
    "test_data_path = r'/usr/local/data/cat_dog/raw/test'\n",
    "\n",
    "# 每次保存多少数据,依据你自己的机器情况调整\n",
    "batch_size = 1000"
   ]
  },
  {
   "cell_type": "markdown",
   "metadata": {},
   "source": [
    "将上面的路径改成你自己机器中的之后,下面的代码就不需要修改了,直接运行那些你想提取特征的代码块即可."
   ]
  },
  {
   "cell_type": "code",
   "execution_count": 2,
   "metadata": {},
   "outputs": [
    {
     "name": "stderr",
     "output_type": "stream",
     "text": [
      "Using TensorFlow backend.\n"
     ]
    }
   ],
   "source": [
    "# 使用第四版本的特征提取,这个版本基于Keras开发,所以不需要自己下载网络的参数文件了(Keras会自动下载)\n",
    "# 之前版本是基于TensorFlow的,因为要下载参数文件比较麻烦,所以之前版本的代码我全部不再提供\n",
    "from extract_features import extract_features_v4\n",
    "import os"
   ]
  },
  {
   "cell_type": "markdown",
   "metadata": {},
   "source": [
    "## 提取训练数据的特征\n",
    "\n",
    "注意以下代码块的运行时间可能比较长.\n",
    "\n",
    "建议使用GPU运行."
   ]
  },
  {
   "cell_type": "markdown",
   "metadata": {},
   "source": [
    "### 提取Inception V3 的特征"
   ]
  },
  {
   "cell_type": "code",
   "execution_count": 3,
   "metadata": {},
   "outputs": [
    {
     "name": "stdout",
     "output_type": "stream",
     "text": [
      "mkdir /usr/local/data/cat_dog/features/train/inception\n",
      "Begin to extracting 25000 images features...\n",
      "|=====================================================================>| 100.00%\n",
      "saved at /usr/local/data/cat_dog/features/train/inception\n",
      "Took 676.61 seconds.\n"
     ]
    }
   ],
   "source": [
    "extract_features_v4(train_data_path,\n",
    "                    os.path.join(train_features_path, 'inception'),\n",
    "                    'inception',\n",
    "                    test=False,\n",
    "                    batch_size=batch_size)"
   ]
  },
  {
   "cell_type": "markdown",
   "metadata": {},
   "source": [
    "### 提取Xception 特征"
   ]
  },
  {
   "cell_type": "code",
   "execution_count": 4,
   "metadata": {},
   "outputs": [
    {
     "name": "stdout",
     "output_type": "stream",
     "text": [
      "mkdir /usr/local/data/cat_dog/features/train/xception\n",
      "Begin to extracting 25000 images features...\n",
      "|=====================================================================>| 100.00%\n",
      "saved at /usr/local/data/cat_dog/features/train/xception\n",
      "Took 610.11 seconds.\n"
     ]
    }
   ],
   "source": [
    "extract_features_v4(train_data_path,\n",
    "                    os.path.join(train_features_path, 'xception'),\n",
    "                    'xception',\n",
    "                    test=False,\n",
    "                    batch_size=batch_size)"
   ]
  },
  {
   "cell_type": "markdown",
   "metadata": {},
   "source": [
    "### 提取 ResNet50 特征"
   ]
  },
  {
   "cell_type": "code",
   "execution_count": 5,
   "metadata": {},
   "outputs": [
    {
     "name": "stdout",
     "output_type": "stream",
     "text": [
      "mkdir /usr/local/data/cat_dog/features/train/resnet50\n"
     ]
    },
    {
     "name": "stderr",
     "output_type": "stream",
     "text": [
      "/usr/local/python3/lib/python3.6/site-packages/keras_applications/resnet50.py:265: UserWarning: The output shape of `ResNet50(include_top=False)` has been changed since Keras 2.2.0.\n",
      "  warnings.warn('The output shape of `ResNet50(include_top=False)` '\n"
     ]
    },
    {
     "name": "stdout",
     "output_type": "stream",
     "text": [
      "Begin to extracting 25000 images features...\n",
      "|=====================================================================>| 100.00%\n",
      "saved at /usr/local/data/cat_dog/features/train/resnet50\n",
      "Took 663.52 seconds.\n"
     ]
    }
   ],
   "source": [
    "extract_features_v4(train_data_path,\n",
    "                    os.path.join(train_features_path, 'resnet50'),\n",
    "                    'resnet50',\n",
    "                    test=False,\n",
    "                    batch_size=batch_size)"
   ]
  },
  {
   "cell_type": "markdown",
   "metadata": {},
   "source": [
    "### 提取VGG 16特征"
   ]
  },
  {
   "cell_type": "code",
   "execution_count": 6,
   "metadata": {},
   "outputs": [
    {
     "name": "stdout",
     "output_type": "stream",
     "text": [
      "mkdir /usr/local/data/cat_dog/features/train/vgg16\n",
      "Begin to extracting 25000 images features...\n",
      "|=====================================================================>| 100.00%\n",
      "saved at /usr/local/data/cat_dog/features/train/vgg16\n",
      "Took 464.28 seconds.\n"
     ]
    }
   ],
   "source": [
    "extract_features_v4(train_data_path,\n",
    "                    os.path.join(train_features_path, 'vgg16'),\n",
    "                    'vgg16',\n",
    "                    test=False,\n",
    "                    batch_size=batch_size)"
   ]
  },
  {
   "cell_type": "markdown",
   "metadata": {},
   "source": [
    "## 提取测试数据特征\n",
    "\n",
    "主要提取的是Kaggle提供的test数据的特征"
   ]
  },
  {
   "cell_type": "markdown",
   "metadata": {},
   "source": [
    "### 提取Inception V3 特征"
   ]
  },
  {
   "cell_type": "code",
   "execution_count": 7,
   "metadata": {},
   "outputs": [
    {
     "name": "stdout",
     "output_type": "stream",
     "text": [
      "mkdir /usr/local/data/cat_dog/features/test/inception\n",
      "Begin to extracting 12500 images features...\n",
      "|=====================================================================>| 100.00%\n",
      "saved at /usr/local/data/cat_dog/features/test/inception\n",
      "Took 353.38 seconds.\n"
     ]
    }
   ],
   "source": [
    "extract_features_v4(test_data_path,\n",
    "                    os.path.join(test_features_path, 'inception'),\n",
    "                    'inception',\n",
    "                    test=True,\n",
    "                    batch_size=batch_size)"
   ]
  },
  {
   "cell_type": "markdown",
   "metadata": {},
   "source": [
    "### 提取Xception 特征"
   ]
  },
  {
   "cell_type": "code",
   "execution_count": 8,
   "metadata": {},
   "outputs": [
    {
     "name": "stdout",
     "output_type": "stream",
     "text": [
      "mkdir /usr/local/data/cat_dog/features/test/xception\n",
      "Begin to extracting 12500 images features...\n",
      "|=====================================================================>| 100.00%\n",
      "saved at /usr/local/data/cat_dog/features/test/xception\n",
      "Took 325.26 seconds.\n"
     ]
    }
   ],
   "source": [
    "extract_features_v4(test_data_path,\n",
    "                    os.path.join(test_features_path, 'xception'),\n",
    "                    'xception',\n",
    "                    test=True,\n",
    "                    batch_size=batch_size)"
   ]
  },
  {
   "cell_type": "markdown",
   "metadata": {},
   "source": [
    "### 提取ResNet50 特征"
   ]
  },
  {
   "cell_type": "code",
   "execution_count": 9,
   "metadata": {},
   "outputs": [
    {
     "name": "stdout",
     "output_type": "stream",
     "text": [
      "mkdir /usr/local/data/cat_dog/features/test/resnet50\n",
      "Begin to extracting 12500 images features...\n",
      "|=====================================================================>| 100.00%\n",
      "saved at /usr/local/data/cat_dog/features/test/resnet50\n",
      "Took 351.72 seconds.\n"
     ]
    }
   ],
   "source": [
    "extract_features_v4(test_data_path,\n",
    "                    os.path.join(test_features_path, 'resnet50'),\n",
    "                    'resnet50',\n",
    "                    test=True,\n",
    "                    batch_size=batch_size)"
   ]
  },
  {
   "cell_type": "markdown",
   "metadata": {},
   "source": [
    "### 提取VGG16 特征"
   ]
  },
  {
   "cell_type": "code",
   "execution_count": 10,
   "metadata": {},
   "outputs": [
    {
     "name": "stdout",
     "output_type": "stream",
     "text": [
      "mkdir /usr/local/data/cat_dog/features/test/vgg16\n",
      "Begin to extracting 12500 images features...\n",
      "|=====================================================================>| 100.00%\n",
      "saved at /usr/local/data/cat_dog/features/test/vgg16\n",
      "Took 247.75 seconds.\n"
     ]
    }
   ],
   "source": [
    "extract_features_v4(test_data_path,\n",
    "                    os.path.join(test_features_path, 'vgg16'),\n",
    "                    'vgg16',\n",
    "                    test=True,\n",
    "                    batch_size=batch_size)"
   ]
  }
 ],
 "metadata": {
  "kernelspec": {
   "display_name": "Python 3",
   "language": "python",
   "name": "python3"
  },
  "language_info": {
   "codemirror_mode": {
    "name": "ipython",
    "version": 3
   },
   "file_extension": ".py",
   "mimetype": "text/x-python",
   "name": "python",
   "nbconvert_exporter": "python",
   "pygments_lexer": "ipython3",
   "version": "3.6.5"
  }
 },
 "nbformat": 4,
 "nbformat_minor": 2
}
