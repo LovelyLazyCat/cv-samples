{
 "cells": [
  {
   "cell_type": "markdown",
   "metadata": {},
   "source": [
    "# 基于Kaggle的test数据生成提交csv文件\n",
    "\n",
    "我们可以记载在`train.ipynb`中训练的模型,然后基于在`extract_features.ipynb`中提取的测试数据的特征生成预测结果.最终产生可以提交给Kaggle的csv文件.\n",
    "\n",
    "这一切我都封装好了,你只需要动动手改一下路径"
   ]
  },
  {
   "cell_type": "code",
   "execution_count": 1,
   "metadata": {},
   "outputs": [],
   "source": [
    "from test import test"
   ]
  },
  {
   "cell_type": "code",
   "execution_count": 2,
   "metadata": {},
   "outputs": [],
   "source": [
    "# 测试数据的特征路径,注意不是训练数据的!!\n",
    "features_path = r'/usr/local/data/cat_dog/features/test'\n",
    "\n",
    "# 保存模型的路径\n",
    "save_path = r'/usr/local/saved_models/cat_dog'\n",
    "\n",
    "# 保存结果的路径\n",
    "csv_path = r'results/'"
   ]
  },
  {
   "cell_type": "markdown",
   "metadata": {},
   "source": [
    "## Inception单特征"
   ]
  },
  {
   "cell_type": "code",
   "execution_count": 3,
   "metadata": {},
   "outputs": [
    {
     "name": "stdout",
     "output_type": "stream",
     "text": [
      "INFO:tensorflow:Restoring parameters from /usr/local/saved_models/cat_dog/inception/catdog.ckpt\n",
      "Processed 12500 images\n"
     ]
    }
   ],
   "source": [
    "test(features_path=features_path,\n",
    "     save_path=save_path,\n",
    "     test_features=['inception'],\n",
    "     csv_path=csv_path,\n",
    "     name='inception')"
   ]
  },
  {
   "cell_type": "markdown",
   "metadata": {},
   "source": [
    "Kaggle 得分:\n",
    "\n",
    "![inception](images/inception.png)\n"
   ]
  },
  {
   "cell_type": "markdown",
   "metadata": {},
   "source": [
    "## Inception + Xception"
   ]
  },
  {
   "cell_type": "code",
   "execution_count": 4,
   "metadata": {},
   "outputs": [
    {
     "name": "stdout",
     "output_type": "stream",
     "text": [
      "INFO:tensorflow:Restoring parameters from /usr/local/saved_models/cat_dog/inception_xception/catdog.ckpt\n",
      "Processed 12500 images\n"
     ]
    }
   ],
   "source": [
    "test(features_path=features_path,\n",
    "     save_path=save_path,\n",
    "     test_features=['inception', 'xception'],\n",
    "     csv_path=csv_path,\n",
    "     name='inception_xception')"
   ]
  },
  {
   "cell_type": "markdown",
   "metadata": {},
   "source": [
    "Kaggle 得分:\n",
    "\n",
    "![inception](images/inception_xception.png)"
   ]
  },
  {
   "cell_type": "markdown",
   "metadata": {},
   "source": [
    "## Inception + Xception + ResNet50"
   ]
  },
  {
   "cell_type": "code",
   "execution_count": 5,
   "metadata": {},
   "outputs": [
    {
     "name": "stdout",
     "output_type": "stream",
     "text": [
      "INFO:tensorflow:Restoring parameters from /usr/local/saved_models/cat_dog/inception_xception_resnet50/catdog.ckpt\n",
      "Processed 12500 images\n"
     ]
    }
   ],
   "source": [
    "test(features_path=features_path,\n",
    "     save_path=save_path,\n",
    "     test_features=['inception', 'xception', 'resnet50'],\n",
    "     csv_path=csv_path,\n",
    "     name='inception_xception_resnet50')"
   ]
  },
  {
   "cell_type": "markdown",
   "metadata": {},
   "source": [
    "Kaggle 得分\n",
    "\n",
    "![inception](images/inception_xception_resnet50.png)\n"
   ]
  },
  {
   "cell_type": "markdown",
   "metadata": {},
   "source": [
    "## Inception + Xception + ResNet50 + VGG16"
   ]
  },
  {
   "cell_type": "code",
   "execution_count": 6,
   "metadata": {},
   "outputs": [
    {
     "name": "stdout",
     "output_type": "stream",
     "text": [
      "INFO:tensorflow:Restoring parameters from /usr/local/saved_models/cat_dog/inception_xception_resnet50_vgg16/catdog.ckpt\n",
      "Processed 12500 images\n"
     ]
    }
   ],
   "source": [
    "test(features_path=features_path,\n",
    "     save_path=save_path,\n",
    "     test_features=['inception', 'xception', 'resnet50', 'vgg16'],\n",
    "     csv_path=csv_path,\n",
    "     name='inception_xception_resnet50_vgg16')"
   ]
  },
  {
   "cell_type": "markdown",
   "metadata": {},
   "source": [
    "Kaggle 得分\n",
    "\n",
    "![inception](images/inception_xception_resnet50_vgg.png)"
   ]
  }
 ],
 "metadata": {
  "kernelspec": {
   "display_name": "Python 3",
   "language": "python",
   "name": "python3"
  },
  "language_info": {
   "codemirror_mode": {
    "name": "ipython",
    "version": 3
   },
   "file_extension": ".py",
   "mimetype": "text/x-python",
   "name": "python",
   "nbconvert_exporter": "python",
   "pygments_lexer": "ipython3",
   "version": "3.6.5"
  }
 },
 "nbformat": 4,
 "nbformat_minor": 2
}
